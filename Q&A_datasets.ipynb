{
  "cells": [
    {
      "cell_type": "markdown",
      "metadata": {
        "id": "view-in-github",
        "colab_type": "text"
      },
      "source": [
        "<a href=\"https://colab.research.google.com/github/Rajeeb321123/Large-Language-model/blob/master/Q%26A_datasets.ipynb\" target=\"_parent\"><img src=\"https://colab.research.google.com/assets/colab-badge.svg\" alt=\"Open In Colab\"/></a>"
      ]
    },
    {
      "cell_type": "markdown",
      "source": [
        "# Turn any pdf to Q&A dataset for finetunning llm\n",
        "\n",
        "- I used locally runned llama3-instruct-8b with the help of lmstudio instead of openai api"
      ],
      "metadata": {
        "id": "k5lUSdTUsytC"
      },
      "id": "k5lUSdTUsytC"
    },
    {
      "cell_type": "markdown",
      "id": "507403a5-c348-4ae7-9c5d-3eef39658854",
      "metadata": {
        "tags": [],
        "id": "507403a5-c348-4ae7-9c5d-3eef39658854"
      },
      "source": [
        "## Installing the libraries\n"
      ]
    },
    {
      "cell_type": "code",
      "source": [
        "!pip install PyMuPDF\n",
        "!pip install pytesseract\n",
        "!pip install PIL\n",
        "!pip install openai"
      ],
      "metadata": {
        "id": "OkVKF5_ctFk7"
      },
      "id": "OkVKF5_ctFk7",
      "execution_count": null,
      "outputs": []
    },
    {
      "cell_type": "markdown",
      "id": "90880447-85fd-4488-9a9b-9249b1637ea3",
      "metadata": {
        "id": "90880447-85fd-4488-9a9b-9249b1637ea3"
      },
      "source": [
        "## PDF to text"
      ]
    },
    {
      "cell_type": "code",
      "execution_count": null,
      "id": "c5cc342a-918d-4b26-beca-09aeebf8629f",
      "metadata": {
        "id": "c5cc342a-918d-4b26-beca-09aeebf8629f"
      },
      "outputs": [],
      "source": [
        "import fitz  # PyMuPDF\n",
        "import pytesseract\n",
        "from PIL import Image\n",
        "import io\n",
        "\n",
        "\n",
        "def convert_pdf_to_text(pdf_path ):\n",
        "    # Open the PDF file\n",
        "    document = fitz.open(pdf_path)\n",
        "\n",
        "    text = \"\"  # Initialize a text string to hold all text from the PDF\n",
        "\n",
        "    for page_num in range(len(document)):\n",
        "        # Get the page\n",
        "        page = document.load_page(page_num)\n",
        "\n",
        "        # First, try to extract text using PyMuPDF\n",
        "        text_content = page.get_text()\n",
        "\n",
        "        if text_content.strip():  # If text is found, append it.\n",
        "            text += text_content\n",
        "        else:\n",
        "            # If no text is found, it might be an image-based PDF\n",
        "            # Extract the image from the page\n",
        "            for img_index, img in enumerate(page.get_images(full=True)):\n",
        "                xref = img[0]\n",
        "                base_image = document.extract_image(xref)\n",
        "                image_bytes = base_image[\"image\"]\n",
        "\n",
        "                # Load it to PIL\n",
        "                image = Image.open(io.BytesIO(image_bytes))\n",
        "\n",
        "                # Use pytesseract to do OCR on the image\n",
        "                text += pytesseract.image_to_string(image)\n",
        "\n",
        "    # Close the document\n",
        "    document.close()\n",
        "\n",
        "    text = text.strip()\n",
        "    text = \" \".join(text.split())\n",
        "\n",
        "\n",
        "    return text"
      ]
    },
    {
      "cell_type": "code",
      "execution_count": null,
      "id": "6a8baebc-6317-45f7-9fd3-06d2e3b244bd",
      "metadata": {
        "id": "6a8baebc-6317-45f7-9fd3-06d2e3b244bd"
      },
      "outputs": [],
      "source": [
        "# Usage\n",
        "pdf_path = \"Resume.pdf\""
      ]
    },
    {
      "cell_type": "code",
      "execution_count": null,
      "id": "6f5b3916-9b53-4ee8-b61c-5c03868696a6",
      "metadata": {
        "tags": [],
        "id": "6f5b3916-9b53-4ee8-b61c-5c03868696a6"
      },
      "outputs": [],
      "source": [
        "text = convert_pdf_to_text(pdf_path )"
      ]
    },
    {
      "cell_type": "code",
      "execution_count": null,
      "id": "52905ca0-c905-488b-931d-efff42e2e4e4",
      "metadata": {
        "tags": [],
        "id": "52905ca0-c905-488b-931d-efff42e2e4e4",
        "outputId": "179947d9-e6fe-4289-b5a4-38e317ac3d67"
      },
      "outputs": [
        {
          "name": "stdout",
          "output_type": "stream",
          "text": [
            "RajeebChhetri AI Enthusiast & FULL STACK DEVELOPER starsgazer321@gmail.com +9779869361432 Kathmandu,\n"
          ]
        }
      ],
      "source": [
        "print(text[:100])"
      ]
    },
    {
      "cell_type": "markdown",
      "id": "23ab293c-53be-4a73-801c-02cbc2bf8db6",
      "metadata": {
        "id": "23ab293c-53be-4a73-801c-02cbc2bf8db6"
      },
      "source": [
        "# Main body: text to Q&A response.json"
      ]
    },
    {
      "cell_type": "code",
      "execution_count": null,
      "id": "ee42ff44-76ba-4b77-9a0e-049f7b1d67dc",
      "metadata": {
        "tags": [],
        "id": "ee42ff44-76ba-4b77-9a0e-049f7b1d67dc"
      },
      "outputs": [],
      "source": [
        "# Chat with an intelligent assistant in your terminal\n",
        "from openai import OpenAI\n",
        "\n",
        "# Point to the local server\n",
        "client = OpenAI(base_url=\"http://localhost:1234/v1\", api_key=\"lm-studio\")\n",
        "\n",
        "history = [\n",
        "    {\"role\": \"system\", \"content\": \"You are an API that converts bodies of text into a single question and answer into a JSON format from the text provided by user. Each JSON contains a single question with a single answer. Only respond with the JSON and no additional text.\"},\n",
        "]\n",
        "\n",
        "def run(user_input):\n",
        "    history.append({\"role\": \"user\", \"content\": user_input})\n",
        "    if (len(history)>4):\n",
        "        query = history[:2] + history[-2:]\n",
        "    else:\n",
        "        query = history\n",
        "\n",
        "    completion = client.chat.completions.create(\n",
        "        model=\"lmstudio-community/Meta-Llama-3-8B-Instruct-GGUF\",\n",
        "        messages=query,\n",
        "        temperature=0.7,\n",
        "        stream=True,\n",
        "    )\n",
        "\n",
        "    print(completion)\n",
        "    new_message = {\"role\": \"assistant\", \"content\": \"\"}\n",
        "\n",
        "    for chunk in completion:\n",
        "        if chunk.choices[0].delta.content:\n",
        "            print(chunk.choices[0].delta.content, end=\"\", flush=True)\n",
        "            new_message[\"content\"] += chunk.choices[0].delta.content\n",
        "\n",
        "    history.append(new_message)\n",
        "\n",
        "    return new_message[\"content\"]\n",
        ""
      ]
    },
    {
      "cell_type": "code",
      "execution_count": null,
      "id": "1fae4161-203f-40a0-a9fd-2e2108f2bac2",
      "metadata": {
        "tags": [],
        "id": "1fae4161-203f-40a0-a9fd-2e2108f2bac2",
        "outputId": "91248aa9-0799-45d2-b62a-a2bb35614c41"
      },
      "outputs": [
        {
          "name": "stdout",
          "output_type": "stream",
          "text": [
            "<openai.Stream object at 0x0000021C7477C750>\n",
            "{\n",
            "\"question\": \"Who is Rajeeb Chhetri?\",\n",
            "\"answer\": \"A full stack developer & AI enthusiast\"\n",
            "}{\n",
            "\"question\": \"Who is Rajeeb Chhetri?\",\n",
            "\"answer\": \"A full stack developer & AI enthusiast\"\n",
            "}\n",
            "hello\n",
            "<openai.Stream object at 0x0000021C778C9D50>\n",
            "{\n",
            "\"question\": \"What is the email address of starsgazer321 and their phone number?\", \n",
            "\"answer\": \"starsgazer321@gmail.com +9779869361432\"\n",
            "}{\n",
            "\"question\": \"What is the email address of starsgazer321 and their phone number?\", \n",
            "\"answer\": \"starsgazer321@gmail.com +9779869361432\"\n",
            "}\n",
            "hello\n",
            "<openai.Stream object at 0x0000021C778F8690>\n",
            "{ \"question\": \"Where is the residence of RajeebChhetri?\", \"answer\": \"Bagmati, Nepal, 44600 Kathmandu\" }{ \"question\": \"Where is the residence of RajeebChhetri?\", \"answer\": \"Bagmati, Nepal, 44600 Kathmandu\" }\n",
            "hello\n",
            "<openai.Stream object at 0x0000021C772D1510>\n",
            "{ \"question\": \"What was the duration of the Digital Wallet internship?\", \"answer\": \"From August 2023 to February 2024 (6 months)\" }{ \"question\": \"What was the duration of the Digital Wallet internship?\", \"answer\": \"From August 2023 to February 2024 (6 months)\" }\n",
            "hello\n",
            "<openai.Stream object at 0x0000021C778EBC50>\n",
            "{ \"question\": \"Can you elaborate on your 6 month internship on developing and maintaining digital wallets?\", \"answer\": \"Yes, I had a 6-month internship as a full-stack developer where I worked on developing and maintaining digital wallets.\" }{ \"question\": \"Can you elaborate on your 6 month internship on developing and maintaining digital wallets?\", \"answer\": \"Yes, I had a 6-month internship as a full-stack developer where I worked on developing and maintaining digital wallets.\" }\n",
            "hello\n",
            "<openai.Stream object at 0x0000021C778F9010>\n",
            "{ \"question\": \"What frameworks do you use for building responsive web applications?\", \"answer\": \"I use React and Next.js to build responsive web applications.\" }{ \"question\": \"What frameworks do you use for building responsive web applications?\", \"answer\": \"I use React and Next.js to build responsive web applications.\" }\n",
            "hello\n",
            "<openai.Stream object at 0x0000021C7790AC10>\n",
            "{ \"question\": \"What are some examples of vector databases?\", \"answer\": \"Some examples of vector databases include Pinecone, OpenAI's LLaMA, and Replika.\" }{ \"question\": \"What are some examples of vector databases?\", \"answer\": \"Some examples of vector databases include Pinecone, OpenAI's LLaMA, and Replika.\" }\n",
            "hello\n",
            "<openai.Stream object at 0x0000021C77905D50>\n",
            "{  \"question\": \"What are some companies or platforms that specialize in problem-solving and AI?\",  \"answer\": \"Cate-AI, MySQL, ElevenLabs.io\" }{  \"question\": \"What are some companies or platforms that specialize in problem-solving and AI?\",  \"answer\": \"Cate-AI, MySQL, ElevenLabs.io\" }\n",
            "hello\n",
            "<openai.Stream object at 0x0000021C77959A90>\n",
            "{   \"question\": \"What is the primary operating system used by Rajeeb Chhetri for exploring new technologies and best practices?\",   \"answer\": \"Mac\" }{   \"question\": \"What is the primary operating system used by Rajeeb Chhetri for exploring new technologies and best practices?\",   \"answer\": \"Mac\" }\n",
            "hello\n",
            "<openai.Stream object at 0x0000021C778CDF90>\n",
            "{    \"question\": \"When are the Hine Learning and Deep Learning courses scheduled to start?\",    \"answer\": \"February 2024\" }{    \"question\": \"When are the Hine Learning and Deep Learning courses scheduled to start?\",    \"answer\": \"February 2024\" }\n",
            "hello\n",
            "<openai.Stream object at 0x0000021C775017D0>\n",
            "{     \"question\": \"What did you recently decide to do with your career?\",     \"answer\": \"switch your carrier\" }{     \"question\": \"What did you recently decide to do with your career?\",     \"answer\": \"switch your carrier\" }\n",
            "hello\n",
            "<openai.Stream object at 0x0000021C774AC650>\n",
            "{      \"question\": \"What is your profession and what educational background do you have?\",      \"answer\": \"I am an AI engineer, I have finished extensive machine learning courses\"  }{      \"question\": \"What is your profession and what educational background do you have?\",      \"answer\": \"I am an AI engineer, I have finished extensive machine learning courses\"  }\n",
            "hello\n",
            "<openai.Stream object at 0x0000021C77902210>\n",
            "{       \"question\": \"What kind of online course did you earn on Udemy?\",       \"answer\": \"Earning a course on Udemy by Super DataScience\"   }{       \"question\": \"What kind of online course did you earn on Udemy?\",       \"answer\": \"Earning a course on Udemy by Super DataScience\"   }\n",
            "hello\n",
            "<openai.Stream object at 0x0000021C77909A90>\n",
            "{        \"question\": \"What are you currently studying in your field of expertise?\",        \"answer\": \"Deep Learning\"    }{        \"question\": \"What are you currently studying in your field of expertise?\",        \"answer\": \"Deep Learning\"    }\n",
            "hello\n",
            "<openai.Stream object at 0x0000021C77969A90>\n",
            "{         \"question\": \"What are you currently studying in mathematical foundations course?\",         \"answer\": \"Machine Learning\"     }{         \"question\": \"What are you currently studying in mathematical foundations course?\",         \"answer\": \"Machine Learning\"     }\n",
            "hello\n",
            "<openai.Stream object at 0x0000021C779696D0>\n",
            "{          \"question\": \"What are some of the resources provided by ZTM online academy and Super DataSci?\",          \"answer\": \"Online courses\"      }{          \"question\": \"What are some of the resources provided by ZTM online academy and Super DataSci?\",          \"answer\": \"Online courses\"      }\n",
            "hello\n",
            "<openai.Stream object at 0x0000021C779019D0>\n",
            "{          \"question\": \"Who is Rajeeb Chhetri and what has he accomplished in his career?\",          \"answer\": \"Rajeeb Chhetri is a full stack developer\"       }{          \"question\": \"Who is Rajeeb Chhetri and what has he accomplished in his career?\",          \"answer\": \"Rajeeb Chhetri is a full stack developer\"       }\n",
            "hello\n",
            "<openai.Stream object at 0x0000021C778F2750>\n",
            "{           \"question\": \"What are 'Like Food', 'Vision' and 'Skimlit NLP Project'?\",           \"answer\": \"Unknown/Not Specified\"        }{           \"question\": \"What are 'Like Food', 'Vision' and 'Skimlit NLP Project'?\",           \"answer\": \"Unknown/Not Specified\"        }\n",
            "hello\n",
            "<openai.Stream object at 0x0000021C77958E50>\n",
            "{            \"question\": \"How do you process data with deep learning on your GitHub repository?\",            \"answer\": \"Check my GitHub\"         }{            \"question\": \"How do you process data with deep learning on your GitHub repository?\",            \"answer\": \"Check my GitHub\"         }\n",
            "hello\n",
            "<openai.Stream object at 0x0000021C7796A750>\n",
            "{             \"question\": \"What is the purpose of RajeebChhetri's GitHub repository for deep learning projects?\",             \"answer\": \"To check out his projects\"          }{             \"question\": \"What is the purpose of RajeebChhetri's GitHub repository for deep learning projects?\",             \"answer\": \"To check out his projects\"          }\n",
            "hello\n",
            "<openai.Stream object at 0x0000021C77968D90>\n",
            "{              \"question\": \"What has RajeebChhetri achieved so far in terms of project completion?\",              \"answer\": \"Some understanding and completed projects and files\"           }{              \"question\": \"What has RajeebChhetri achieved so far in terms of project completion?\",              \"answer\": \"Some understanding and completed projects and files\"           }\n",
            "hello\n",
            "<openai.Stream object at 0x0000021C77975390>\n",
            "{               \"question\": \"What is the focus area of 'ne tunned on LLM'?\",               \"answer\": \"Especially on Llama-3b-instruct\"            }{               \"question\": \"What is the focus area of 'ne tunned on LLM'?\",               \"answer\": \"Especially on Llama-3b-instruct\"            }\n",
            "hello\n",
            "<openai.Stream object at 0x0000021C779833D0>\n",
            "{                \"question\": \"How are you planning to master LLaMA-3b-instruct with your own custom dataset?\",                \"answer\": \"On your own custom dataset\"             }{                \"question\": \"How are you planning to master LLaMA-3b-instruct with your own custom dataset?\",                \"answer\": \"On your own custom dataset\"             }\n",
            "hello\n",
            "<openai.Stream object at 0x0000021C7796AC10>\n",
            "{                 \"question\": \"What is the main difference between reinforcement learning and deep reinforcement learning?\",                 \"answer\": \"Deep reinforcement learning uses neural networks to learn complex policies in environments with large state and action spaces.\" }{                 \"question\": \"What is the main difference between reinforcement learning and deep reinforcement learning?\",                 \"answer\": \"Deep reinforcement learning uses neural networks to learn complex policies in environments with large state and action spaces.\" }\n",
            "hello\n",
            "<openai.Stream object at 0x0000021C77982750>\n",
            "{                  \"question\": \"What is your current focus area in AI (Reinforcement Learning) and what do you plan to explore next (Deep Q-learning)?\",                  \"answer\": \"My current focus area in AI is Reinforcement Learning, and I plan to explore Deep Q-learning in the future.\" }{                  \"question\": \"What is your current focus area in AI (Reinforcement Learning) and what do you plan to explore next (Deep Q-learning)?\",                  \"answer\": \"My current focus area in AI is Reinforcement Learning, and I plan to explore Deep Q-learning in the future.\" }\n",
            "hello\n",
            "<openai.Stream object at 0x0000021C77959310>\n",
            "{                   \"question\": \"What is your primary goal for tracking your progress on iHub?\",                   \"answer\": \"My primary goal is to track my progress as a Full Stack Developer and AI Enthusiast.\" }{                   \"question\": \"What is your primary goal for tracking your progress on iHub?\",                   \"answer\": \"My primary goal is to track my progress as a Full Stack Developer and AI Enthusiast.\" }\n",
            "hello\n",
            "<openai.Stream object at 0x0000021C774D1210>\n",
            "{                    \"question\": \"What does Rajeeb Chhetri do after graduating from github.com?\",                    \"answer\": \"He works as a Full Stack Developer and AI Enthusiast.\" }{                    \"question\": \"What does Rajeeb Chhetri do after graduating from github.com?\",                    \"answer\": \"He works as a Full Stack Developer and AI Enthusiast.\" }\n",
            "hello\n",
            "<openai.Stream object at 0x0000021C7795B710>\n",
            "{                     \"question\": \"Why did the person decide to work with degree in Computer Engineering?\",                     \"answer\": \"I decided to work after graduating from github.com\" }{                     \"question\": \"Why did the person decide to work with degree in Computer Engineering?\",                     \"answer\": \"I decided to work after graduating from github.com\" }\n",
            "hello\n",
            "<openai.Stream object at 0x0000021C77967DD0>\n",
            "{ \"question\": \"What was the motivation behind pursuing a career that combines programming and Artificial Intelligence?\", \"answer\": \"to pursue my passion for programming and Artificial intelligence\" }{ \"question\": \"What was the motivation behind pursuing a career that combines programming and Artificial Intelligence?\", \"answer\": \"to pursue my passion for programming and Artificial intelligence\" }\n",
            "hello\n",
            "<openai.Stream object at 0x0000021C77970590>\n",
            "{ \"question\": \"How did you get interested in coding and Artificial Intelligence?\", \"answer\": \"I started taking courses in coding\" }{ \"question\": \"How did you get interested in coding and Artificial Intelligence?\", \"answer\": \"I started taking courses in coding\" }\n",
            "hello\n",
            "<openai.Stream object at 0x0000021C778F7D90>\n",
            "{ \"question\": \"What motivated you to learn full stack web development and problem-solving skills?\", \"answer\": \"g and\" }{ \"question\": \"What motivated you to learn full stack web development and problem-solving skills?\", \"answer\": \"g and\" }\n",
            "hello\n",
            "<openai.Stream object at 0x0000021C77906CD0>\n",
            "{ \"question\": \"How many personal projects have you developed in your career as a Full Stack Developer?\", \"answer\": \"more than 15\" }{ \"question\": \"How many personal projects have you developed in your career as a Full Stack Developer?\", \"answer\": \"more than 15\" }\n",
            "hello\n",
            "<openai.Stream object at 0x0000021C753E4110>\n",
            "{ \"question\": \"What type of projects have you accumulated experience in developing as a Full Stack Developer?\", \"answer\": \"web applications, mobile apps, and AI-powered tools\" }{ \"question\": \"What type of projects have you accumulated experience in developing as a Full Stack Developer?\", \"answer\": \"web applications, mobile apps, and AI-powered tools\" }\n",
            "hello\n",
            "<openai.Stream object at 0x0000021C753E4110>\n",
            "{ \"question\": \"What type of web applications have you developed expertise in as a full-stack developer?\", \"answer\": \"RajeebChhetri\" }{ \"question\": \"What type of web applications have you developed expertise in as a full-stack developer?\", \"answer\": \"RajeebChhetri\" }\n",
            "hello\n",
            "<openai.Stream object at 0x0000021C77985F50>\n",
            "{  \"question\": \"What is your favorite part of programming, according to your skills and knowledge?\",  \"answer\": \"My\"  }{  \"question\": \"What is your favorite part of programming, according to your skills and knowledge?\",  \"answer\": \"My\"  }\n",
            "hello\n",
            "<openai.Stream object at 0x0000021C778EB3D0>\n",
            "{   \"question\": \"What do you consider as the most enjoyable part of programming, based on your experiences?\",   \"answer\": \"ming is the problem-solving. My core stack is React\" }{   \"question\": \"What do you consider as the most enjoyable part of programming, based on your experiences?\",   \"answer\": \"ming is the problem-solving. My core stack is React\" }\n",
            "hello\n",
            "<openai.Stream object at 0x0000021C77988CD0>\n",
            "{    \"question\": \"What are some of your preferred technologies for building a web application, based on your expertise?\",    \"answer\": \"I use t, Next.js, Typescript, Node.js, and MySQL as my true stack.\" }{    \"question\": \"What are some of your preferred technologies for building a web application, based on your expertise?\",    \"answer\": \"I use t, Next.js, Typescript, Node.js, and MySQL as my true stack.\" }\n",
            "hello\n",
            "<openai.Stream object at 0x0000021C77958FD0>\n",
            "{     \"question\": \"What are some of your passions and interests outside of work or professional development?\",     \"answer\": \"My passion lies with Artificial Intelligence and Apple products, specifically the Mac ecosystem.\" }{     \"question\": \"What are some of your passions and interests outside of work or professional development?\",     \"answer\": \"My passion lies with Artificial Intelligence and Apple products, specifically the Mac ecosystem.\" }\n",
            "hello\n",
            "<openai.Stream object at 0x0000021C7798A850>\n",
            "{      \"question\": \"What is your area of specialization in machine learning, specifically with Deep Learning?\",      \"answer\": \"I am specially focused on Deep learning.\" }{      \"question\": \"What is your area of specialization in machine learning, specifically with Deep Learning?\",      \"answer\": \"I am specially focused on Deep learning.\" }\n",
            "hello\n",
            "<openai.Stream object at 0x0000021C779811D0>\n",
            "{       \"question\": \"Are you searching for a job opening in the tech industry?\",       \"answer\": \"Yes, I am currently looking for a dynamic opportunity to join a team.\"  }{       \"question\": \"Are you searching for a job opening in the tech industry?\",       \"answer\": \"Yes, I am currently looking for a dynamic opportunity to join a team.\"  }\n",
            "hello\n",
            "<openai.Stream object at 0x0000021C77965A90>\n",
            "{        \"question\": \"What kind of company culture are you interested in?\",        \"answer\": \"I'm looking for a dynamic and innovative team where I can contribute my skills and experience to drive success.\" }{        \"question\": \"What kind of company culture are you interested in?\",        \"answer\": \"I'm looking for a dynamic and innovative team where I can contribute my skills and experience to drive success.\" }\n",
            "hello\n",
            "<openai.Stream object at 0x0000021C7790A610>\n",
            "{         \"question\": \"What is your primary focus in software development?\",         \"answer\": \"I'm primarily focused on the development of cutting-edge AI solutions that can transform industries and improve people's lives.\"  }{         \"question\": \"What is your primary focus in software development?\",         \"answer\": \"I'm primarily focused on the development of cutting-edge AI solutions that can transform industries and improve people's lives.\"  }\n",
            "hello\n",
            "<openai.Stream object at 0x0000021C77964CD0>\n",
            "{          \"question\": \"What are your personal goals for career growth and self-improvement?\",          \"answer\": \"My primary goal is to continuously learn new technologies, enhance my skills, and expand my knowledge base to stay ahead in the ever-evolving tech landscape, while also cultivating strong professional relationships and a positive online presence.\"   }{          \"question\": \"What are your personal goals for career growth and self-improvement?\",          \"answer\": \"My primary goal is to continuously learn new technologies, enhance my skills, and expand my knowledge base to stay ahead in the ever-evolving tech landscape, while also cultivating strong professional relationships and a positive online presence.\"   }\n",
            "hello\n",
            "<openai.Stream object at 0x0000021C7790A110>\n",
            "{           \"question\":  \"What is your nationality and what portfolio website do you have?\",           \"answer\":  \"I am Nepalese, and my portfolio website is rajeebport.\"    }{           \"question\":  \"What is your nationality and what portfolio website do you have?\",           \"answer\":  \"I am Nepalese, and my portfolio website is rajeebport.\"    }\n",
            "hello\n",
            "<openai.Stream object at 0x0000021C77907BD0>\n",
            "{            \"question\": \"Where can we find your online portfolio and what is your LinkedIn profile URL?\",            \"answer\": \"We can find my online portfolio at folio.vercel.app, and my LinkedIn profile URL is linkedin.com/in/rajeebch\"     }{            \"question\": \"Where can we find your online portfolio and what is your LinkedIn profile URL?\",            \"answer\": \"We can find my online portfolio at folio.vercel.app, and my LinkedIn profile URL is linkedin.com/in/rajeebch\"     }\n",
            "hello\n",
            "<openai.Stream object at 0x0000021C77895450>\n",
            "{             \"question\": \"What is your GitHub username and repository URL?\",             \"answer\": \"My GitHub username is Rajeeb321 and the repository URL is github.com/Rajeeb321123\"      }{             \"question\": \"What is your GitHub username and repository URL?\",             \"answer\": \"My GitHub username is Rajeeb321 and the repository URL is github.com/Rajeeb321123\"      }\n",
            "hello\n",
            "<openai.Stream object at 0x0000021C779822D0>\n",
            "{              \"question\": \"What are your major skills in machine learning, including deep learning?\",              \"answer\": \"My major skills include TensorFlow, Keras, PyTorch, and OpenCV for machine learning and deep learning.\" }{              \"question\": \"What are your major skills in machine learning, including deep learning?\",              \"answer\": \"My major skills include TensorFlow, Keras, PyTorch, and OpenCV for machine learning and deep learning.\" }\n",
            "hello\n",
            "<openai.Stream object at 0x0000021C77980610>\n",
            "{               \"question\": \"What are the mathematical foundations of regression and classification in machine learning?\",               \"answer\": \"The mathematical foundations of regression include linear algebra, calculus, probability theory, and statistics. For classification, it includes binary logic, propositional logic, set theory, combinatorics, and probability theory.\" }{               \"question\": \"What are the mathematical foundations of regression and classification in machine learning?\",               \"answer\": \"The mathematical foundations of regression include linear algebra, calculus, probability theory, and statistics. For classification, it includes binary logic, propositional logic, set theory, combinatorics, and probability theory.\" }\n",
            "hello\n",
            "<openai.Stream object at 0x0000021C77997ED0>\n",
            "{                \"question\": \"What are the key concepts in TensorFlow, including RNNs and convolutional neural networks?\",                \"answer\": \"The key concepts in TensorFlow include Recurrent Neural Networks (RNNs) for processing sequential data, and Convolutional Neural Networks (CNNs) for image processing and feature extraction.\" }{                \"question\": \"What are the key concepts in TensorFlow, including RNNs and convolutional neural networks?\",                \"answer\": \"The key concepts in TensorFlow include Recurrent Neural Networks (RNNs) for processing sequential data, and Convolutional Neural Networks (CNNs) for image processing and feature extraction.\" }\n",
            "hello\n",
            "<openai.Stream object at 0x0000021C77996290>\n",
            "{                 \"question\": \"What is a Neural Network, and what are its types?\",                 \"answer\": \"A neural network is a machine learning model inspired by the human brain. Its types include Single-model Neural Networks, Multi-model Neural Networks, Transfer Learning models, and Hybrid models.\" }{                 \"question\": \"What is a Neural Network, and what are its types?\",                 \"answer\": \"A neural network is a machine learning model inspired by the human brain. Its types include Single-model Neural Networks, Multi-model Neural Networks, Transfer Learning models, and Hybrid models.\" }\n",
            "hello\n",
            "<openai.Stream object at 0x0000021C77958B50>\n",
            "{                  \"question\": \"What is Hugging Face and what are its applications in Natural Language Processing (NLP) and Deep NLP?\",                  \"answer\": \"Hugging Face is an open-source AI research organization that provides pre-trained language models, datasets, and evaluation metrics for the natural language processing (NLP) community. Its applications include transformer-based architectures like BERT, RoBERTa, and DistilBERT for various NLP tasks such as text classification, sentiment analysis, named entity recognition, and question answering.\" }{                  \"question\": \"What is Hugging Face and what are its applications in Natural Language Processing (NLP) and Deep NLP?\",                  \"answer\": \"Hugging Face is an open-source AI research organization that provides pre-trained language models, datasets, and evaluation metrics for the natural language processing (NLP) community. Its applications include transformer-based architectures like BERT, RoBERTa, and DistilBERT for various NLP tasks such as text classification, sentiment analysis, named entity recognition, and question answering.\" }\n",
            "hello\n",
            "<openai.Stream object at 0x0000021C7790B010>\n",
            "{                   \"question\": \"What is fine-tuning in the context of vector databases like LangChain, and how does it relate to Python?\",                   \"answer\": \"Fine-tuning refers to the process of adapting a pre-trained model to a specific task or dataset. In the context of LangChain, fine-tuning involves adjusting the weights of a pre-trained language model using a new dataset to improve its performance on a particular task or domain. This can be achieved through Python libraries like Hugging Face's Transformers and Torch, which provide tools for fine-tuning models.\" }{                   \"question\": \"What is fine-tuning in the context of vector databases like LangChain, and how does it relate to Python?\",                   \"answer\": \"Fine-tuning refers to the process of adapting a pre-trained model to a specific task or dataset. In the context of LangChain, fine-tuning involves adjusting the weights of a pre-trained language model using a new dataset to improve its performance on a particular task or domain. This can be achieved through Python libraries like Hugging Face's Transformers and Torch, which provide tools for fine-tuning models.\" }\n",
            "hello\n",
            "<openai.Stream object at 0x0000021C77982C10>\n",
            "{                    \"question\": \"What is mPy and how does it relate to Pandas, JavaScript, TypeScript, React, and Next.js in educational settings?\",                    \"answer\": \"mPy (MicroPython) is a lean and efficient implementation of the Python 3 programming language. In an educational setting, mPy can be used to teach programming concepts using a more accessible and interactive platform. It can be integrated with Pandas for data analysis, JavaScript and TypeScript for web development, React and Next.js for building dynamic web applications.\" }{                    \"question\": \"What is mPy and how does it relate to Pandas, JavaScript, TypeScript, React, and Next.js in educational settings?\",                    \"answer\": \"mPy (MicroPython) is a lean and efficient implementation of the Python 3 programming language. In an educational setting, mPy can be used to teach programming concepts using a more accessible and interactive platform. It can be integrated with Pandas for data analysis, JavaScript and TypeScript for web development, React and Next.js for building dynamic web applications.\" }\n",
            "hello\n",
            "<openai.Stream object at 0x0000021C7790B010>\n",
            "{                     \"question\": \"What is the department of Computer Engineering at Tribhuvan University?\",                     \"answer\": \"The Department of Computer Engineering at Tribhuvan University is a renowned institution that offers undergraduate and graduate programs in computer engineering. It aims to produce highly skilled professionals with expertise in designing, developing, testing, and maintaining various types of computers and their components.\" }{                     \"question\": \"What is the department of Computer Engineering at Tribhuvan University?\",                     \"answer\": \"The Department of Computer Engineering at Tribhuvan University is a renowned institution that offers undergraduate and graduate programs in computer engineering. It aims to produce highly skilled professionals with expertise in designing, developing, testing, and maintaining various types of computers and their components.\" }\n",
            "hello\n",
            "<openai.Stream object at 0x0000021C77997450>\n",
            "{                      \"question\": \"What is the combination of roles held by Rajeeb Chhetri in 2023?\",                      \"answer\": \"Rajeeb Chhetri holds the combination of roles as AI Engineer and Full Stack Developer in 2023.\" }{                      \"question\": \"What is the combination of roles held by Rajeeb Chhetri in 2023?\",                      \"answer\": \"Rajeeb Chhetri holds the combination of roles as AI Engineer and Full Stack Developer in 2023.\" }\n",
            "hello\n"
          ]
        }
      ],
      "source": [
        "def chunks(lst, n):\n",
        "    for i in range(0, len(lst), n):\n",
        "        yield lst[i:i + n]\n",
        "\n",
        "def is_json(data):\n",
        "    try:\n",
        "        json.loads(data)\n",
        "        return True\n",
        "    except ValueError:\n",
        "        return False\n",
        "\n",
        "def submit_to_api(chunk, retries=3):\n",
        "    for i in range(retries):\n",
        "        try:\n",
        "            response = run(chunk)\n",
        "            # Extract JSON string from between back-ticks\n",
        "            if is_json(response):\n",
        "                print(response)\n",
        "                return json.loads(response)\n",
        "            else:\n",
        "                match = re.search(r'`(.*?)`', response, re.S)\n",
        "                if match and is_json(match.group(1)):\n",
        "                    print(f\"Attempt {i + 1} failed. Retrying...\")\n",
        "                    return json.loads(match.group(1))  # assuming you want to return the JSON data\n",
        "                else:\n",
        "                    print(f\"Request failed: {e}\")\n",
        "        except requests.exceptions.RequestException as e:\n",
        "            continue\n",
        "    print(\"Max retries exceeded. Skipping this chunk.\")\n",
        "    return None\n",
        "\n",
        "\n",
        "all_chunks = list(chunks(text, 50))\n",
        "# print(token_chunks)\n",
        "\n",
        "responses = []\n",
        "\n",
        "for chunk in all_chunks:\n",
        "    response = submit_to_api(chunk)\n",
        "    if response is not None:\n",
        "        print(\"hello\")\n",
        "        responses.append(response)\n",
        "\n",
        "# Write responses to a JSON file\n",
        "with open('response.json', 'w') as f:\n",
        "    json.dump(responses, f)"
      ]
    }
  ],
  "metadata": {
    "kernelspec": {
      "display_name": "Python 3 (ipykernel)",
      "language": "python",
      "name": "python3"
    },
    "language_info": {
      "codemirror_mode": {
        "name": "ipython",
        "version": 3
      },
      "file_extension": ".py",
      "mimetype": "text/x-python",
      "name": "python",
      "nbconvert_exporter": "python",
      "pygments_lexer": "ipython3",
      "version": "3.11.7"
    },
    "colab": {
      "provenance": [],
      "include_colab_link": true
    }
  },
  "nbformat": 4,
  "nbformat_minor": 5
}